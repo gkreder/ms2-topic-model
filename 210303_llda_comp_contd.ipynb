{
 "cells": [
  {
   "cell_type": "code",
   "execution_count": 1,
   "metadata": {},
   "outputs": [
    {
     "name": "stderr",
     "output_type": "stream",
     "text": [
      "/Users/reder/miniconda3/envs/f1000/lib/python3.9/site-packages/tqdm/auto.py:22: TqdmWarning: IProgress not found. Please update jupyter and ipywidgets. See https://ipywidgets.readthedocs.io/en/stable/user_install.html\n",
      "  from .autonotebook import tqdm as notebook_tqdm\n"
     ]
    }
   ],
   "source": [
    "import sys\n",
    "import os\n",
    "import tomotopy as tp\n",
    "import numpy as np\n",
    "import pandas as pd\n",
    "from tqdm.auto import tqdm\n",
    "import itertools\n",
    "import molmass\n",
    "\n",
    "import matplotlib.pyplot as plt\n",
    "import seaborn as sns\n",
    "from pyteomics import mgf\n",
    "\n",
    "from rdkit import Chem\n",
    "import sklearn.metrics\n",
    "from rdkit import DataStructs"
   ]
  },
  {
   "cell_type": "code",
   "execution_count": 2,
   "metadata": {},
   "outputs": [],
   "source": [
    "df_mes = pd.read_csv(\"/media/gkreder/5TB/data/mass_spec/ms2_corr/llda/201029_llda_qbGrid/df_messar_handLabels.tsv\", sep = '\\t')\n",
    "\n",
    "def get_mes_vec(s):\n",
    "\tmol = Chem.MolFromSmiles(s)\n",
    "\tvec = np.array([mol.HasSubstructMatch(Chem.MolFromSmarts(patt)) for patt in df_mes['smarts']]).astype(int)\n",
    "\treturn(vec)\n",
    "def get_mes_labels(s):\n",
    "\tv = get_mes_vec(s)\n",
    "\treturn(df_mes.iloc[np.where(v > 0)]['index'].values)    \n",
    "\n",
    "def glf(Q, B, x, v = 0.5, A = 0, K = 100, C = 1):\n",
    "\tres = (K - A) / np.power(C + Q * np.exp(-B * x), (1 / v))\n",
    "\treturn(res)\n"
   ]
  },
  {
   "cell_type": "code",
   "execution_count": 172,
   "metadata": {},
   "outputs": [
    {
     "name": "stderr",
     "output_type": "stream",
     "text": [
      "RDKit ERROR: [19:17:25] Explicit valence for atom # 12 N, 4, is greater than permitted\n"
     ]
    }
   ],
   "source": [
    "df_ids = pd.read_csv(\"/media/gkreder/5TB/data/mass_spec/ms2_corr/f1000/test/standard_run/df_ids.tsv\", sep = '\\t', index_col = 0)\n",
    "df_ids['mol'] = [Chem.MolFromSmiles(x) for x in df_ids.smiles]\n",
    "df_ids = df_ids.dropna()\n",
    "df_ids['rdkit_fp'] = [Chem.RDKFingerprint(x) for x in df_ids['mol']]"
   ]
  },
  {
   "cell_type": "code",
   "execution_count": 173,
   "metadata": {},
   "outputs": [],
   "source": [
    "df_ids_train = df_ids[df_ids.index.str.contains('_train')].copy()\n",
    "df_ids_test = df_ids[df_ids.index.str.contains('_test')].copy()"
   ]
  },
  {
   "cell_type": "code",
   "execution_count": 188,
   "metadata": {},
   "outputs": [
    {
     "data": {
      "application/vnd.jupyter.widget-view+json": {
       "model_id": "0d2ebb4191184f94912b5f053ea0aa56",
       "version_major": 2,
       "version_minor": 0
      },
      "text/plain": [
       "HBox(children=(FloatProgress(value=0.0, max=185.0), HTML(value='')))"
      ]
     },
     "metadata": {},
     "output_type": "display_data"
    },
    {
     "name": "stdout",
     "output_type": "stream",
     "text": [
      "\n"
     ]
    }
   ],
   "source": [
    "test_output = [get_train_sims(d) for d in tqdm(df_ids_test.index)]\n",
    "maxes, mins, means, medians = zip(*test_output)\n",
    "df_ids_test['max_train_sim'] = maxes\n",
    "df_ids_test['mins_train_sim'] = mins\n",
    "df_ids_test['means_train_sim'] = means\n",
    "df_ids_test['medians_train_sim'] = medians\n",
    "df_ids_test['uniform_train_sim'] = 1.0"
   ]
  },
  {
   "cell_type": "code",
   "execution_count": 161,
   "metadata": {},
   "outputs": [],
   "source": [
    "def get_train_sims(d):\n",
    "    fp_d = df_ids.loc[d]['rdkit_fp']\n",
    "    fp_sims = [DataStructs.FingerprintSimilarity(fp_d, fp) for fp in df_ids_train['rdkit_fp']]\n",
    "    return(np.max(fp_sims), np.min(fp_sims), np.mean(fp_sims), np.median(fp_sims))"
   ]
  },
  {
   "cell_type": "code",
   "execution_count": 22,
   "metadata": {},
   "outputs": [],
   "source": [
    "df_sims_baseline = pd.read_csv(\"/media/gkreder/5TB/data/mass_spec/ms2_corr/f1000/test/standard_run/baseline/df_preds.tsv\", sep = '\\t', index_col = 0)"
   ]
  },
  {
   "cell_type": "code",
   "execution_count": 29,
   "metadata": {},
   "outputs": [],
   "source": [
    "df_sims_llda = pd.read_csv(\"/media/gkreder/5TB/data/mass_spec/ms2_corr/f1000/test/standard_run/llda/df_sims.tsv\", sep = '\\t', index_col = 0)\n",
    "df_sims_llda = df_sims_llda.T\n",
    "df_sims_llda.index = df_sims_llda.index + '_test'"
   ]
  },
  {
   "cell_type": "code",
   "execution_count": 5,
   "metadata": {},
   "outputs": [],
   "source": [
    "df_labels = pd.read_csv(\"/media/gkreder/5TB/data/mass_spec/ms2_corr/f1000/test/standard_run/df_labels.tsv\", sep = '\\t', index_col = 0)"
   ]
  },
  {
   "cell_type": "code",
   "execution_count": 45,
   "metadata": {},
   "outputs": [],
   "source": [
    "df_labels_test = df_labels[df_labels.index.str.contains('_test')]\n",
    "df_labels_train = df_labels[df_labels.index.str.contains('_train')]"
   ]
  },
  {
   "cell_type": "code",
   "execution_count": 32,
   "metadata": {},
   "outputs": [
    {
     "data": {
      "text/html": [
       "<div>\n",
       "<style scoped>\n",
       "    .dataframe tbody tr th:only-of-type {\n",
       "        vertical-align: middle;\n",
       "    }\n",
       "\n",
       "    .dataframe tbody tr th {\n",
       "        vertical-align: top;\n",
       "    }\n",
       "\n",
       "    .dataframe thead th {\n",
       "        text-align: right;\n",
       "    }\n",
       "</style>\n",
       "<table border=\"1\" class=\"dataframe\">\n",
       "  <thead>\n",
       "    <tr style=\"text-align: right;\">\n",
       "      <th></th>\n",
       "      <th>mh0</th>\n",
       "      <th>mh1</th>\n",
       "      <th>mh2</th>\n",
       "      <th>mh3</th>\n",
       "      <th>mh4</th>\n",
       "      <th>mh5</th>\n",
       "      <th>mh6</th>\n",
       "      <th>mh7</th>\n",
       "      <th>mh8</th>\n",
       "      <th>mh9</th>\n",
       "      <th>...</th>\n",
       "      <th>mh702</th>\n",
       "      <th>mh703</th>\n",
       "      <th>mh704</th>\n",
       "      <th>mh705</th>\n",
       "      <th>mh706</th>\n",
       "      <th>mh707</th>\n",
       "      <th>mh708</th>\n",
       "      <th>mh709</th>\n",
       "      <th>mh710</th>\n",
       "      <th>mh711</th>\n",
       "    </tr>\n",
       "    <tr>\n",
       "      <th>id</th>\n",
       "      <th></th>\n",
       "      <th></th>\n",
       "      <th></th>\n",
       "      <th></th>\n",
       "      <th></th>\n",
       "      <th></th>\n",
       "      <th></th>\n",
       "      <th></th>\n",
       "      <th></th>\n",
       "      <th></th>\n",
       "      <th></th>\n",
       "      <th></th>\n",
       "      <th></th>\n",
       "      <th></th>\n",
       "      <th></th>\n",
       "      <th></th>\n",
       "      <th></th>\n",
       "      <th></th>\n",
       "      <th></th>\n",
       "      <th></th>\n",
       "      <th></th>\n",
       "    </tr>\n",
       "  </thead>\n",
       "  <tbody>\n",
       "    <tr>\n",
       "      <th>1_test</th>\n",
       "      <td>0.0</td>\n",
       "      <td>0.0</td>\n",
       "      <td>0.0</td>\n",
       "      <td>0.0</td>\n",
       "      <td>0.0</td>\n",
       "      <td>0.0</td>\n",
       "      <td>0.0</td>\n",
       "      <td>0.0</td>\n",
       "      <td>0.7</td>\n",
       "      <td>0.0</td>\n",
       "      <td>...</td>\n",
       "      <td>0.0</td>\n",
       "      <td>0.0</td>\n",
       "      <td>0.0</td>\n",
       "      <td>0.0</td>\n",
       "      <td>0.1</td>\n",
       "      <td>0.0</td>\n",
       "      <td>0.0</td>\n",
       "      <td>0.0</td>\n",
       "      <td>0.0</td>\n",
       "      <td>0.0</td>\n",
       "    </tr>\n",
       "    <tr>\n",
       "      <th>2_test</th>\n",
       "      <td>0.0</td>\n",
       "      <td>0.0</td>\n",
       "      <td>0.0</td>\n",
       "      <td>0.0</td>\n",
       "      <td>0.0</td>\n",
       "      <td>0.0</td>\n",
       "      <td>0.0</td>\n",
       "      <td>0.0</td>\n",
       "      <td>0.2</td>\n",
       "      <td>0.0</td>\n",
       "      <td>...</td>\n",
       "      <td>0.0</td>\n",
       "      <td>0.0</td>\n",
       "      <td>0.1</td>\n",
       "      <td>0.0</td>\n",
       "      <td>0.0</td>\n",
       "      <td>0.0</td>\n",
       "      <td>0.0</td>\n",
       "      <td>0.0</td>\n",
       "      <td>0.0</td>\n",
       "      <td>0.0</td>\n",
       "    </tr>\n",
       "    <tr>\n",
       "      <th>3_test</th>\n",
       "      <td>0.0</td>\n",
       "      <td>0.0</td>\n",
       "      <td>0.0</td>\n",
       "      <td>0.4</td>\n",
       "      <td>0.0</td>\n",
       "      <td>0.0</td>\n",
       "      <td>0.0</td>\n",
       "      <td>0.0</td>\n",
       "      <td>0.0</td>\n",
       "      <td>0.0</td>\n",
       "      <td>...</td>\n",
       "      <td>0.0</td>\n",
       "      <td>0.0</td>\n",
       "      <td>0.0</td>\n",
       "      <td>0.6</td>\n",
       "      <td>0.0</td>\n",
       "      <td>0.0</td>\n",
       "      <td>0.0</td>\n",
       "      <td>0.0</td>\n",
       "      <td>0.0</td>\n",
       "      <td>0.0</td>\n",
       "    </tr>\n",
       "    <tr>\n",
       "      <th>4_test</th>\n",
       "      <td>0.0</td>\n",
       "      <td>0.1</td>\n",
       "      <td>0.0</td>\n",
       "      <td>0.0</td>\n",
       "      <td>0.0</td>\n",
       "      <td>0.0</td>\n",
       "      <td>0.0</td>\n",
       "      <td>0.0</td>\n",
       "      <td>0.1</td>\n",
       "      <td>0.0</td>\n",
       "      <td>...</td>\n",
       "      <td>0.0</td>\n",
       "      <td>0.0</td>\n",
       "      <td>0.0</td>\n",
       "      <td>0.0</td>\n",
       "      <td>0.0</td>\n",
       "      <td>0.0</td>\n",
       "      <td>0.1</td>\n",
       "      <td>0.0</td>\n",
       "      <td>0.0</td>\n",
       "      <td>0.0</td>\n",
       "    </tr>\n",
       "    <tr>\n",
       "      <th>5_test</th>\n",
       "      <td>0.0</td>\n",
       "      <td>0.0</td>\n",
       "      <td>0.0</td>\n",
       "      <td>0.0</td>\n",
       "      <td>0.0</td>\n",
       "      <td>0.0</td>\n",
       "      <td>0.0</td>\n",
       "      <td>0.0</td>\n",
       "      <td>0.2</td>\n",
       "      <td>0.0</td>\n",
       "      <td>...</td>\n",
       "      <td>0.0</td>\n",
       "      <td>0.0</td>\n",
       "      <td>0.0</td>\n",
       "      <td>0.0</td>\n",
       "      <td>0.2</td>\n",
       "      <td>0.0</td>\n",
       "      <td>0.1</td>\n",
       "      <td>0.0</td>\n",
       "      <td>0.0</td>\n",
       "      <td>0.0</td>\n",
       "    </tr>\n",
       "    <tr>\n",
       "      <th>...</th>\n",
       "      <td>...</td>\n",
       "      <td>...</td>\n",
       "      <td>...</td>\n",
       "      <td>...</td>\n",
       "      <td>...</td>\n",
       "      <td>...</td>\n",
       "      <td>...</td>\n",
       "      <td>...</td>\n",
       "      <td>...</td>\n",
       "      <td>...</td>\n",
       "      <td>...</td>\n",
       "      <td>...</td>\n",
       "      <td>...</td>\n",
       "      <td>...</td>\n",
       "      <td>...</td>\n",
       "      <td>...</td>\n",
       "      <td>...</td>\n",
       "      <td>...</td>\n",
       "      <td>...</td>\n",
       "      <td>...</td>\n",
       "      <td>...</td>\n",
       "    </tr>\n",
       "    <tr>\n",
       "      <th>181_test</th>\n",
       "      <td>0.0</td>\n",
       "      <td>0.0</td>\n",
       "      <td>0.0</td>\n",
       "      <td>0.0</td>\n",
       "      <td>0.0</td>\n",
       "      <td>0.0</td>\n",
       "      <td>0.0</td>\n",
       "      <td>0.0</td>\n",
       "      <td>0.5</td>\n",
       "      <td>0.0</td>\n",
       "      <td>...</td>\n",
       "      <td>0.0</td>\n",
       "      <td>0.0</td>\n",
       "      <td>0.0</td>\n",
       "      <td>0.0</td>\n",
       "      <td>0.1</td>\n",
       "      <td>0.0</td>\n",
       "      <td>0.1</td>\n",
       "      <td>0.0</td>\n",
       "      <td>0.0</td>\n",
       "      <td>0.0</td>\n",
       "    </tr>\n",
       "    <tr>\n",
       "      <th>182_test</th>\n",
       "      <td>0.0</td>\n",
       "      <td>0.0</td>\n",
       "      <td>0.0</td>\n",
       "      <td>0.0</td>\n",
       "      <td>0.0</td>\n",
       "      <td>0.0</td>\n",
       "      <td>0.0</td>\n",
       "      <td>0.0</td>\n",
       "      <td>0.0</td>\n",
       "      <td>0.0</td>\n",
       "      <td>...</td>\n",
       "      <td>0.0</td>\n",
       "      <td>0.0</td>\n",
       "      <td>0.0</td>\n",
       "      <td>0.0</td>\n",
       "      <td>0.0</td>\n",
       "      <td>0.0</td>\n",
       "      <td>0.0</td>\n",
       "      <td>0.0</td>\n",
       "      <td>0.0</td>\n",
       "      <td>0.0</td>\n",
       "    </tr>\n",
       "    <tr>\n",
       "      <th>183_test</th>\n",
       "      <td>0.0</td>\n",
       "      <td>0.0</td>\n",
       "      <td>0.0</td>\n",
       "      <td>0.0</td>\n",
       "      <td>0.0</td>\n",
       "      <td>0.0</td>\n",
       "      <td>0.0</td>\n",
       "      <td>0.0</td>\n",
       "      <td>0.5</td>\n",
       "      <td>0.0</td>\n",
       "      <td>...</td>\n",
       "      <td>0.0</td>\n",
       "      <td>0.0</td>\n",
       "      <td>0.3</td>\n",
       "      <td>0.0</td>\n",
       "      <td>0.0</td>\n",
       "      <td>0.0</td>\n",
       "      <td>0.0</td>\n",
       "      <td>0.0</td>\n",
       "      <td>0.0</td>\n",
       "      <td>0.0</td>\n",
       "    </tr>\n",
       "    <tr>\n",
       "      <th>184_test</th>\n",
       "      <td>0.0</td>\n",
       "      <td>0.0</td>\n",
       "      <td>0.0</td>\n",
       "      <td>0.0</td>\n",
       "      <td>0.0</td>\n",
       "      <td>0.0</td>\n",
       "      <td>0.0</td>\n",
       "      <td>0.0</td>\n",
       "      <td>0.2</td>\n",
       "      <td>0.0</td>\n",
       "      <td>...</td>\n",
       "      <td>0.0</td>\n",
       "      <td>0.0</td>\n",
       "      <td>0.0</td>\n",
       "      <td>0.0</td>\n",
       "      <td>0.0</td>\n",
       "      <td>0.0</td>\n",
       "      <td>0.0</td>\n",
       "      <td>0.0</td>\n",
       "      <td>0.0</td>\n",
       "      <td>0.0</td>\n",
       "    </tr>\n",
       "    <tr>\n",
       "      <th>185_test</th>\n",
       "      <td>0.0</td>\n",
       "      <td>0.1</td>\n",
       "      <td>0.0</td>\n",
       "      <td>0.2</td>\n",
       "      <td>0.0</td>\n",
       "      <td>0.0</td>\n",
       "      <td>0.0</td>\n",
       "      <td>0.0</td>\n",
       "      <td>0.1</td>\n",
       "      <td>0.0</td>\n",
       "      <td>...</td>\n",
       "      <td>0.0</td>\n",
       "      <td>0.0</td>\n",
       "      <td>0.0</td>\n",
       "      <td>0.1</td>\n",
       "      <td>0.0</td>\n",
       "      <td>0.0</td>\n",
       "      <td>0.0</td>\n",
       "      <td>0.0</td>\n",
       "      <td>0.0</td>\n",
       "      <td>0.0</td>\n",
       "    </tr>\n",
       "  </tbody>\n",
       "</table>\n",
       "<p>185 rows × 712 columns</p>\n",
       "</div>"
      ],
      "text/plain": [
       "          mh0  mh1  mh2  mh3  mh4  mh5  mh6  mh7  mh8  mh9  ...  mh702  mh703  \\\n",
       "id                                                          ...                 \n",
       "1_test    0.0  0.0  0.0  0.0  0.0  0.0  0.0  0.0  0.7  0.0  ...    0.0    0.0   \n",
       "2_test    0.0  0.0  0.0  0.0  0.0  0.0  0.0  0.0  0.2  0.0  ...    0.0    0.0   \n",
       "3_test    0.0  0.0  0.0  0.4  0.0  0.0  0.0  0.0  0.0  0.0  ...    0.0    0.0   \n",
       "4_test    0.0  0.1  0.0  0.0  0.0  0.0  0.0  0.0  0.1  0.0  ...    0.0    0.0   \n",
       "5_test    0.0  0.0  0.0  0.0  0.0  0.0  0.0  0.0  0.2  0.0  ...    0.0    0.0   \n",
       "...       ...  ...  ...  ...  ...  ...  ...  ...  ...  ...  ...    ...    ...   \n",
       "181_test  0.0  0.0  0.0  0.0  0.0  0.0  0.0  0.0  0.5  0.0  ...    0.0    0.0   \n",
       "182_test  0.0  0.0  0.0  0.0  0.0  0.0  0.0  0.0  0.0  0.0  ...    0.0    0.0   \n",
       "183_test  0.0  0.0  0.0  0.0  0.0  0.0  0.0  0.0  0.5  0.0  ...    0.0    0.0   \n",
       "184_test  0.0  0.0  0.0  0.0  0.0  0.0  0.0  0.0  0.2  0.0  ...    0.0    0.0   \n",
       "185_test  0.0  0.1  0.0  0.2  0.0  0.0  0.0  0.0  0.1  0.0  ...    0.0    0.0   \n",
       "\n",
       "          mh704  mh705  mh706  mh707  mh708  mh709  mh710  mh711  \n",
       "id                                                                \n",
       "1_test      0.0    0.0    0.1    0.0    0.0    0.0    0.0    0.0  \n",
       "2_test      0.1    0.0    0.0    0.0    0.0    0.0    0.0    0.0  \n",
       "3_test      0.0    0.6    0.0    0.0    0.0    0.0    0.0    0.0  \n",
       "4_test      0.0    0.0    0.0    0.0    0.1    0.0    0.0    0.0  \n",
       "5_test      0.0    0.0    0.2    0.0    0.1    0.0    0.0    0.0  \n",
       "...         ...    ...    ...    ...    ...    ...    ...    ...  \n",
       "181_test    0.0    0.0    0.1    0.0    0.1    0.0    0.0    0.0  \n",
       "182_test    0.0    0.0    0.0    0.0    0.0    0.0    0.0    0.0  \n",
       "183_test    0.3    0.0    0.0    0.0    0.0    0.0    0.0    0.0  \n",
       "184_test    0.0    0.0    0.0    0.0    0.0    0.0    0.0    0.0  \n",
       "185_test    0.0    0.1    0.0    0.0    0.0    0.0    0.0    0.0  \n",
       "\n",
       "[185 rows x 712 columns]"
      ]
     },
     "execution_count": 32,
     "metadata": {},
     "output_type": "execute_result"
    }
   ],
   "source": [
    "df_sims_baseline"
   ]
  },
  {
   "cell_type": "code",
   "execution_count": 319,
   "metadata": {},
   "outputs": [],
   "source": [
    "c = 'mh0'\n",
    "good_cs_structs = []\n",
    "rows = []\n",
    "for c in df_labels_test.columns:\n",
    "    if df_labels_train[c].sum() == 0.0 or df_labels_test[c].sum() == 0.0:\n",
    "        continue\n",
    "    aprec_baseline = sklearn.metrics.average_precision_score(df_labels_test[c], df_sims_baseline[c])\n",
    "    aprec_llda = sklearn.metrics.average_precision_score(df_labels_test[c], df_sims_llda[c])\n",
    "    roc_auc_baseline = sklearn.metrics.roc_auc_score(df_labels_test[c], df_sims_baseline[c])\n",
    "    roc_auc_llda = sklearn.metrics.roc_auc_score(df_labels_test[c], df_sims_llda[c])\n",
    "    rows.append((c, aprec_baseline, aprec_llda, roc_auc_baseline, roc_auc_llda))\n",
    "    good_cs_structs.append(c)\n",
    "df_res = pd.DataFrame(rows, columns = ['c', 'prec_baseline', 'prec_llda', 'auc_baseline', 'auc_llda'])\n",
    "\n",
    "good_cs_docs = []\n",
    "for d in df_labels_test.index:\n",
    "    if df_labels_test.loc[d].sum() > 0:\n",
    "        good_cs_docs.append(d)"
   ]
  },
  {
   "cell_type": "code",
   "execution_count": 320,
   "metadata": {},
   "outputs": [],
   "source": [
    "df_res['prec'] = df_res['prec_llda'] - df_res['prec_baseline']\n",
    "df_res['auc'] = df_res['auc_llda'] - df_res['auc_baseline']\n",
    "# df_res = df_res[['c', 'prec', 'auc']].copy()"
   ]
  },
  {
   "cell_type": "code",
   "execution_count": 321,
   "metadata": {},
   "outputs": [
    {
     "data": {
      "text/html": [
       "<div>\n",
       "<style scoped>\n",
       "    .dataframe tbody tr th:only-of-type {\n",
       "        vertical-align: middle;\n",
       "    }\n",
       "\n",
       "    .dataframe tbody tr th {\n",
       "        vertical-align: top;\n",
       "    }\n",
       "\n",
       "    .dataframe thead th {\n",
       "        text-align: right;\n",
       "    }\n",
       "</style>\n",
       "<table border=\"1\" class=\"dataframe\">\n",
       "  <thead>\n",
       "    <tr style=\"text-align: right;\">\n",
       "      <th></th>\n",
       "      <th>c</th>\n",
       "      <th>prec</th>\n",
       "      <th>auc</th>\n",
       "    </tr>\n",
       "  </thead>\n",
       "  <tbody>\n",
       "    <tr>\n",
       "      <th>262</th>\n",
       "      <td>mh528</td>\n",
       "      <td>0.494595</td>\n",
       "      <td>0.565217</td>\n",
       "    </tr>\n",
       "    <tr>\n",
       "      <th>52</th>\n",
       "      <td>mh106</td>\n",
       "      <td>0.327928</td>\n",
       "      <td>0.543478</td>\n",
       "    </tr>\n",
       "    <tr>\n",
       "      <th>210</th>\n",
       "      <td>mh426</td>\n",
       "      <td>0.327928</td>\n",
       "      <td>0.535326</td>\n",
       "    </tr>\n",
       "    <tr>\n",
       "      <th>218</th>\n",
       "      <td>mh440</td>\n",
       "      <td>0.322507</td>\n",
       "      <td>-0.185897</td>\n",
       "    </tr>\n",
       "    <tr>\n",
       "      <th>266</th>\n",
       "      <td>mh535</td>\n",
       "      <td>0.263657</td>\n",
       "      <td>0.152930</td>\n",
       "    </tr>\n",
       "    <tr>\n",
       "      <th>...</th>\n",
       "      <td>...</td>\n",
       "      <td>...</td>\n",
       "      <td>...</td>\n",
       "    </tr>\n",
       "    <tr>\n",
       "      <th>261</th>\n",
       "      <td>mh527</td>\n",
       "      <td>-0.404009</td>\n",
       "      <td>0.051105</td>\n",
       "    </tr>\n",
       "    <tr>\n",
       "      <th>141</th>\n",
       "      <td>mh298</td>\n",
       "      <td>-0.427838</td>\n",
       "      <td>-0.240128</td>\n",
       "    </tr>\n",
       "    <tr>\n",
       "      <th>168</th>\n",
       "      <td>mh348</td>\n",
       "      <td>-0.495559</td>\n",
       "      <td>-0.248168</td>\n",
       "    </tr>\n",
       "    <tr>\n",
       "      <th>275</th>\n",
       "      <td>mh560</td>\n",
       "      <td>-0.666776</td>\n",
       "      <td>-0.226776</td>\n",
       "    </tr>\n",
       "    <tr>\n",
       "      <th>294</th>\n",
       "      <td>mh594</td>\n",
       "      <td>-0.970588</td>\n",
       "      <td>-0.179348</td>\n",
       "    </tr>\n",
       "  </tbody>\n",
       "</table>\n",
       "<p>358 rows × 3 columns</p>\n",
       "</div>"
      ],
      "text/plain": [
       "         c      prec       auc\n",
       "262  mh528  0.494595  0.565217\n",
       "52   mh106  0.327928  0.543478\n",
       "210  mh426  0.327928  0.535326\n",
       "218  mh440  0.322507 -0.185897\n",
       "266  mh535  0.263657  0.152930\n",
       "..     ...       ...       ...\n",
       "261  mh527 -0.404009  0.051105\n",
       "141  mh298 -0.427838 -0.240128\n",
       "168  mh348 -0.495559 -0.248168\n",
       "275  mh560 -0.666776 -0.226776\n",
       "294  mh594 -0.970588 -0.179348\n",
       "\n",
       "[358 rows x 3 columns]"
      ]
     },
     "execution_count": 321,
     "metadata": {},
     "output_type": "execute_result"
    }
   ],
   "source": [
    "df_res[['c', 'prec', 'auc']].sort_values(by = 'prec', ascending = False)"
   ]
  },
  {
   "cell_type": "code",
   "execution_count": 322,
   "metadata": {},
   "outputs": [
    {
     "data": {
      "text/plain": [
       "Text(0.5, 1.0, 'Avg Baseline - 0.23485892200581598 \\n Avg LLDA - 0.15498638577100496')"
      ]
     },
     "execution_count": 322,
     "metadata": {},
     "output_type": "execute_result"
    },
    {
     "data": {
      "image/png": "[encoded data removed]",
      "text/plain": [
       "<Figure size 432x288 with 1 Axes>"
      ]
     },
     "metadata": {
      "needs_background": "light"
     },
     "output_type": "display_data"
    }
   ],
   "source": [
    "# plt.scatter(df_res['prec'], df_res['auc'])\n",
    "plt.scatter(df_res['prec_baseline'], df_res['prec_llda'])\n",
    "plt.xlabel('Baseline')\n",
    "plt.ylabel('LLDA')\n",
    "plt.title(f\"Avg Baseline - {df_res['prec_baseline'].mean()} \\n Avg LLDA - {df_res['prec_llda'].mean()}\")"
   ]
  },
  {
   "cell_type": "code",
   "execution_count": null,
   "metadata": {},
   "outputs": [],
   "source": []
  },
  {
   "cell_type": "code",
   "execution_count": 338,
   "metadata": {},
   "outputs": [
    {
     "data": {
      "text/plain": [
       "1_test      1.0\n",
       "2_test      1.0\n",
       "3_test      1.0\n",
       "4_test      1.0\n",
       "5_test      1.0\n",
       "           ... \n",
       "181_test    1.0\n",
       "182_test    1.0\n",
       "183_test    1.0\n",
       "184_test    1.0\n",
       "185_test    1.0\n",
       "Name: uniform_train_sim, Length: 185, dtype: float64"
      ]
     },
     "execution_count": 338,
     "metadata": {},
     "output_type": "execute_result"
    }
   ],
   "source": [
    "weights"
   ]
  },
  {
   "cell_type": "code",
   "execution_count": 342,
   "metadata": {},
   "outputs": [],
   "source": [
    "test_sums = df_labels_test.multiply(weights, axis = 'index').sum()"
   ]
  },
  {
   "cell_type": "code",
   "execution_count": 343,
   "metadata": {},
   "outputs": [
    {
     "data": {
      "text/plain": [
       "mh0      0.0\n",
       "mh1      5.0\n",
       "mh2      0.0\n",
       "mh3      0.0\n",
       "mh4      0.0\n",
       "        ... \n",
       "mh707    2.0\n",
       "mh708    0.0\n",
       "mh709    0.0\n",
       "mh710    1.0\n",
       "mh711    0.0\n",
       "Length: 712, dtype: float64"
      ]
     },
     "execution_count": 343,
     "metadata": {},
     "output_type": "execute_result"
    }
   ],
   "source": [
    "test_sums"
   ]
  },
  {
   "cell_type": "code",
   "execution_count": 333,
   "metadata": {},
   "outputs": [
    {
     "data": {
      "text/plain": [
       "mh0      0.0\n",
       "mh1      0.0\n",
       "mh2      0.0\n",
       "mh3      0.0\n",
       "mh4      0.0\n",
       "        ... \n",
       "mh707    0.0\n",
       "mh708    0.0\n",
       "mh709    0.0\n",
       "mh710    0.0\n",
       "mh711    0.0\n",
       "Length: 712, dtype: float64"
      ]
     },
     "execution_count": 333,
     "metadata": {},
     "output_type": "execute_result"
    }
   ],
   "source": [
    "df_labels_train.multiply(weights, axis = 'index').sum()"
   ]
  },
  {
   "cell_type": "code",
   "execution_count": 359,
   "metadata": {},
   "outputs": [
    {
     "data": {
      "text/plain": [
       "False"
      ]
     },
     "execution_count": 359,
     "metadata": {},
     "output_type": "execute_result"
    }
   ],
   "source": [
    "(df_labels_test[gcs].multiply(weights, axis = 'index').sum() == 0).any()"
   ]
  },
  {
   "cell_type": "markdown",
   "metadata": {},
   "source": [
    "## Looking at increasingly dissimilar documents in the test set"
   ]
  },
  {
   "cell_type": "code",
   "execution_count": 543,
   "metadata": {},
   "outputs": [
    {
     "name": "stdout",
     "output_type": "stream",
     "text": [
      "uniform\n",
      "macro 0.6860239447684823 0.5829230066757052 -0.1031009380927771\n",
      "\n",
      "max\n",
      "macro 0.5975024504191229 0.6148328563688551 0.01733040594973223\n",
      "\n",
      "mins\n",
      "macro 0.750334308187155 0.7608909614854741 0.010556653298319119\n",
      "\n"
     ]
    }
   ],
   "source": [
    "avg = 'macro'\n",
    "# for weighting in ['uniform', 'max', 'mins', 'means', 'medians']:\n",
    "for weighting in ['uniform', 'max', 'mins']:\n",
    "    print(weighting)\n",
    "    weights = df_ids_test[f\"{weighting}_train_sim\"].loc[df_labels_test.index]\n",
    "    if weighting != 'uniform':\n",
    "        weights = weights / weights.max()\n",
    "        weights = 1 - weights\n",
    "    weights = pd.cut(weights, [0.0, 0.5, 1.0], labels = False).fillna(value = 0.0)\n",
    "    weighted_sums = df_labels_test.multiply(weights, axis = 'index').sum()\n",
    "    gcs = (weighted_sums[weighted_sums > 0]).index.values\n",
    "    gcs = list(set(df_sims_llda.columns).intersection(set(gcs)))\n",
    "#     for avg in ['micro', 'macro', 'samples', 'weighted']:\n",
    "    for avg in ['macro']:\n",
    "        if avg != 'samples':\n",
    "            gds = df_labels_test.index\n",
    "        else:\n",
    "            doc_sums = df_labels_test.sum(axis = 1)\n",
    "            gds = doc_sums[doc_sums > 0].index\n",
    "        auc_baseline = sklearn.metrics.roc_auc_score(df_labels_test.loc[gds][gcs], df_sims_baseline.loc[gds][gcs], average = avg, sample_weight = weights.loc[gds].values)\n",
    "        auc_llda = sklearn.metrics.roc_auc_score(df_labels_test.loc[gds][gcs], df_sims_llda.loc[gds][gcs], average = avg, sample_weight = weights.loc[gds].values)\n",
    "        print(avg, auc_baseline, auc_llda, auc_llda - auc_baseline)\n",
    "    print('')"
   ]
  },
  {
   "cell_type": "code",
   "execution_count": 555,
   "metadata": {},
   "outputs": [],
   "source": [
    "min_similarities = df_ids_test[\"mins_train_sim\"].loc[df_labels_test.index]\n",
    "max_similarities = df_ids_test[\"max_train_sim\"].loc[df_labels_test.index]\n",
    "substruct_differences = (df_labels_test.sum() / len(df_labels_test)) - (df_labels_train.sum() / len(df_labels_train))\n",
    "percentiles = np.arange(0, 1.05, .05)"
   ]
  },
  {
   "cell_type": "code",
   "execution_count": 579,
   "metadata": {},
   "outputs": [],
   "source": [
    "min_sim_runs = list(itertools.product(min_similarities.quantile(percentiles).values, substruct_differences.quantile(percentiles).values))\n",
    "min_sim_runs = [('mins', x[0], x[1]) for x in min_sim_runs]\n",
    "max_sim_runs = list(itertools.product(max_similarities.quantile(percentiles).values, substruct_differences.quantile(percentiles).values))\n",
    "max_sim_runs = [('max', x[0], x[1]) for x in max_sim_runs]\n",
    "runs = min_sim_runs + max_sim_runs"
   ]
  },
  {
   "cell_type": "code",
   "execution_count": 604,
   "metadata": {},
   "outputs": [
    {
     "data": {
      "text/plain": [
       "('max', 0.08943089430894309, -0.2836772564045291)"
      ]
     },
     "execution_count": 604,
     "metadata": {},
     "output_type": "execute_result"
    }
   ],
   "source": [
    "mode, sim_val, struct_val = max_sim_runs[0]\n",
    "mode, sim_val, struct_val"
   ]
  },
  {
   "cell_type": "code",
   "execution_count": 793,
   "metadata": {},
   "outputs": [],
   "source": [
    "def get_aucs(mode, sim_val, struct_val, test = False):\n",
    "    mode_sims = df_ids_test[f\"{mode}_train_sim\"].loc[df_labels_test.index]\n",
    "    keep_docs = mode_sims[mode_sims <= sim_val].index\n",
    "    keep_docs_multiply = pd.Series(df_labels_test.index.isin(keep_docs).astype(float), index = df_labels_test.index)\n",
    "    weighted_sums = df_labels_test.multiply(keep_docs_multiply, axis = 'index').sum()\n",
    "    keep_structs = (weighted_sums[weighted_sums > 0]).index.values\n",
    "    keep_structs = list(set(df_sims_llda.columns).intersection(set(keep_structs)))\n",
    "    keep_structs = list(set(substruct_differences[substruct_differences >= struct_val].index).intersection(set(keep_structs)))\n",
    "    if test:\n",
    "        return(keep_docs, keep_structs)\n",
    "    try:\n",
    "        auc_baseline = sklearn.metrics.roc_auc_score(df_labels_test.loc[keep_docs][keep_structs], df_sims_baseline.loc[keep_docs][keep_structs], average = 'macro')\n",
    "        auc_llda = sklearn.metrics.roc_auc_score(df_labels_test.loc[keep_docs][keep_structs], df_sims_llda.loc[keep_docs][keep_structs], average = 'macro')\n",
    "        return(auc_baseline, auc_llda)\n",
    "    except:\n",
    "        return((None, None))"
   ]
  },
  {
   "cell_type": "code",
   "execution_count": 726,
   "metadata": {},
   "outputs": [],
   "source": [
    "from joblib import Parallel, delayed"
   ]
  },
  {
   "cell_type": "code",
   "execution_count": 727,
   "metadata": {},
   "outputs": [
    {
     "data": {
      "application/vnd.jupyter.widget-view+json": {
       "model_id": "c84f4661740b4698b79b59690b120ce9",
       "version_major": 2,
       "version_minor": 0
      },
      "text/plain": [
       "HBox(children=(FloatProgress(value=0.0, max=882.0), HTML(value='')))"
      ]
     },
     "metadata": {},
     "output_type": "display_data"
    },
    {
     "name": "stdout",
     "output_type": "stream",
     "text": [
      "\n"
     ]
    }
   ],
   "source": [
    "output = Parallel(n_jobs = 30)(delayed(get_aucs)(*x) for x in tqdm(runs))"
   ]
  },
  {
   "cell_type": "code",
   "execution_count": 729,
   "metadata": {},
   "outputs": [],
   "source": [
    "rows = [list(x) + list(output[i]) for i, x in enumerate(runs)]\n",
    "df_out = pd.DataFrame(rows, columns = ['mode', 'sim_cutoff', 'struct_cutoff', 'auc_baseline', 'auc_llda'])\n",
    "df_out['llda-baseline'] = df_out['auc_llda'] - df_out['auc_baseline']"
   ]
  },
  {
   "cell_type": "code",
   "execution_count": 752,
   "metadata": {},
   "outputs": [],
   "source": [
    "df_struct_cutoffs = pd.DataFrame(substruct_differences.quantile(percentiles)).reset_index().rename(columns = {'index' : 'percentile', 0 : 'value'})"
   ]
  },
  {
   "cell_type": "code",
   "execution_count": 770,
   "metadata": {},
   "outputs": [],
   "source": [
    "import matplotlib.cm as cm\n",
    "import matplotlib.colors as mcolors"
   ]
  },
  {
   "cell_type": "code",
   "execution_count": 792,
   "metadata": {},
   "outputs": [
    {
     "data": {
      "image/png": "[encoded data removed]",
      "text/plain": [
       "<Figure size 432x288 with 2 Axes>"
      ]
     },
     "metadata": {
      "needs_background": "light"
     },
     "output_type": "display_data"
    }
   ],
   "source": [
    "mode = 'mins'\n",
    "df_plot = df_out[df_out['mode'] == mode]\n",
    "colormap = cm.viridis\n",
    "# colorparams = df_plot['struct_cutoff'].values\n",
    "colorparams = df_struct_cutoffs['percentile'].values\n",
    "normalize = mcolors.Normalize(vmin=np.min(colorparams), vmax=np.max(colorparams))\n",
    "for struct_cutoff in set(df_plot['struct_cutoff']):\n",
    "    percentile = df_struct_cutoffs.iloc[np.abs(df_struct_cutoffs['value'] - struct_cutoff).argmin()]['percentile']\n",
    "    df = df_plot[df_plot['struct_cutoff'] == struct_cutoff].dropna()\n",
    "#     color = colormap(normalize(struct_cutoff))\n",
    "    color = colormap(normalize(percentile))\n",
    "    plt.plot(df['sim_cutoff'], df['llda-baseline'], marker='.', linestyle='-' ,label = f'{round(struct_cutoff, 2)}', color = color)\n",
    "plt.xlabel(\"Sim Cutoff\")\n",
    "plt.ylabel('LLDA - Baseline')\n",
    "s_map = cm.ScalarMappable(norm=normalize, cmap=colormap)\n",
    "s_map.set_array(colorparams)\n",
    "cbar = plt.colorbar(s_map)\n",
    "# cbar.set_label('Struct Cutoff')\n",
    "cbar.ax.set_title('Struct Cutoff')\n",
    "plt.title(f\"Train-test similarity mode {mode} \\n ROC AUC\")\n",
    "plt.savefig(f\"/media/gkreder/5TB/data/mass_spec/ms2_corr/llda/210303_{mode}DocSimilarities_rocAucs.pdf\", bbox_inches = 'tight')\n",
    "# # , spacing='proportional', ticks=colorparams, boundaries=boundaries, format='%2.2g') # format='%2i' for integer\n",
    "# # plt.legend(bbox_to_anchor = (1.05, 1), title = 'Struct Cutoff')"
   ]
  },
  {
   "cell_type": "code",
   "execution_count": 824,
   "metadata": {},
   "outputs": [],
   "source": [
    "# df_struct_cutoffs"
   ]
  },
  {
   "cell_type": "code",
   "execution_count": 826,
   "metadata": {},
   "outputs": [
    {
     "data": {
      "image/png": "[encoded data removed]",
      "text/plain": [
       "<Figure size 432x288 with 2 Axes>"
      ]
     },
     "metadata": {
      "needs_background": "light"
     },
     "output_type": "display_data"
    }
   ],
   "source": [
    "mode = 'max'\n",
    "df_plot = df_out[df_out['mode'] == mode]\n",
    "colormap = cm.viridis\n",
    "# colorparams = df_plot['struct_cutoff'].values\n",
    "colorparams = df_struct_cutoffs['percentile'].values\n",
    "normalize = mcolors.Normalize(vmin=np.min(colorparams), vmax=np.max(colorparams))\n",
    "for struct_cutoff in set(df_plot['struct_cutoff']):\n",
    "    percentile = df_struct_cutoffs.iloc[np.abs(df_struct_cutoffs['value'] - struct_cutoff).argmin()]['percentile']\n",
    "    if percentile >= 0.999:\n",
    "        continue\n",
    "    df = df_plot[df_plot['struct_cutoff'] == struct_cutoff].dropna()\n",
    "#     color = colormap(normalize(struct_cutoff))\n",
    "    color = colormap(normalize(percentile))\n",
    "    plt.plot(df['sim_cutoff'], df['llda-baseline'], marker='.', linestyle='-', label = f'{round(struct_cutoff, 2)}', color = color)\n",
    "plt.xlabel(\"Sim Cutoff\")\n",
    "plt.ylabel('LLDA - Baseline')\n",
    "s_map = cm.ScalarMappable(norm=normalize, cmap=colormap)\n",
    "s_map.set_array(colorparams)\n",
    "cbar = plt.colorbar(s_map)\n",
    "# cbar.set_label('Struct Cutoff')\n",
    "cbar.ax.set_title('Struct Cutoff')\n",
    "plt.title(f\"Train-test similarity mode {mode} \\n ROC AUC\")\n",
    "plt.savefig(f\"/media/gkreder/5TB/data/mass_spec/ms2_corr/llda/210303_{mode}DocSimilarities_rocAucs.pdf\", bbox_inches = 'tight')\n",
    "# # , spacing='proportional', ticks=colorparams, boundaries=boundaries, format='%2.2g') # format='%2i' for integer\n",
    "# # plt.legend(bbox_to_anchor = (1.05, 1), title = 'Struct Cutoff')"
   ]
  },
  {
   "cell_type": "markdown",
   "metadata": {},
   "source": [
    "## Draw individual ROC plots for reference"
   ]
  },
  {
   "cell_type": "code",
   "execution_count": 796,
   "metadata": {},
   "outputs": [],
   "source": [
    "keep_docs, keep_structs = get_aucs(mode = 'max', sim_val = 1.0, struct_val = 0.0, test = True)"
   ]
  },
  {
   "cell_type": "code",
   "execution_count": 798,
   "metadata": {},
   "outputs": [],
   "source": [
    "# auc_baseline = sklearn.metrics.roc_auc_score(df_labels_test.loc[keep_docs][keep_structs], df_sims_baseline.loc[keep_docs][keep_structs], average = 'macro')\n",
    "# auc_llda = sklearn.metrics.roc_auc_score(df_labels_test.loc[keep_docs][keep_structs], df_sims_llda.loc[keep_docs][keep_structs], average = 'macro')"
   ]
  },
  {
   "cell_type": "code",
   "execution_count": 827,
   "metadata": {},
   "outputs": [],
   "source": [
    "labs = df_labels_test.loc[keep_docs]['mh220']\n",
    "smiles = \"CCC(=O)NC(C)C\"\n",
    "pred = df_sims_llda.loc[keep_docs]['mh220']\n",
    "fpr, tpr, _ = sklearn.metrics.roc_curve(labs, pred)\n",
    "auc = sklearn.metrics.auc(fpr, tpr)"
   ]
  },
  {
   "cell_type": "code",
   "execution_count": 828,
   "metadata": {},
   "outputs": [
    {
     "data": {
      "image/png": "[encoded data removed]",
      "text/plain": [
       "<Figure size 432x288 with 1 Axes>"
      ]
     },
     "metadata": {
      "needs_background": "light"
     },
     "output_type": "display_data"
    }
   ],
   "source": [
    "plt.figure()\n",
    "lw = 2\n",
    "plt.plot(fpr, tpr, color='darkorange',\n",
    "         lw=lw, label='ROC curve (area = %0.2f)' % auc)\n",
    "plt.plot([0, 1], [0, 1], color='navy', lw=lw, linestyle='--')\n",
    "plt.xlim([0.0, 1.0])\n",
    "plt.ylim([0.0, 1.05])\n",
    "plt.xlabel('False Positive Rate')\n",
    "plt.ylabel('True Positive Rate')\n",
    "plt.title('LLDA Receiver operating characteristic (ROC) for Substructure mh220')\n",
    "plt.legend(loc=\"lower right\")\n",
    "plt.savefig(\"/media/gkreder/5TB/data/mass_spec/ms2_corr/llda/210303_llda_egRoc_mh220.pdf\")\n",
    "plt.show()\n"
   ]
  },
  {
   "cell_type": "code",
   "execution_count": 833,
   "metadata": {},
   "outputs": [
    {
     "data": {
      "image/png": "[encoded data removed]",
      "text/plain": [
       "<Figure size 432x288 with 1 Axes>"
      ]
     },
     "metadata": {
      "needs_background": "light"
     },
     "output_type": "display_data"
    }
   ],
   "source": [
    "labs = df_labels_test.loc[keep_docs]['mh528']\n",
    "# smiles = \"CCC(=O)NC(C)C\"\n",
    "pred = df_sims_llda.loc[keep_docs]['mh528']\n",
    "pred_baseline = df_sims_baseline.loc[keep_docs]['mh528']\n",
    "fpr, tpr, _ = sklearn.metrics.roc_curve(labs, pred)\n",
    "fpr_baseline, tpr_baseline, _ = sklearn.metrics.roc_curve(labs, pred_baseline)\n",
    "auc = sklearn.metrics.auc(fpr, tpr)\n",
    "auc_baseline = sklearn.metrics.auc(fpr_baseline, tpr_baseline)\n",
    "\n",
    "plt.figure()\n",
    "lw = 2\n",
    "plt.plot(fpr, tpr, color='darkorange', lw=lw, label='ROC curve (area = %0.2f)' % auc)\n",
    "plt.plot(fpr_baseline, tpr_baseline, color='darkred', lw=lw, label='ROC curve (area = %0.2f)' % auc_baseline)\n",
    "plt.plot([0, 1], [0, 1], color='navy', lw=lw, linestyle='--')\n",
    "plt.xlim([0.0, 1.0])\n",
    "plt.ylim([0.0, 1.05])\n",
    "plt.xlabel('False Positive Rate')\n",
    "plt.ylabel('True Positive Rate')\n",
    "plt.title('LLDA Receiver operating characteristic (ROC) for Substructure mh220')\n",
    "plt.legend(loc=\"lower right\")\n",
    "plt.show()\n"
   ]
  },
  {
   "cell_type": "code",
   "execution_count": 836,
   "metadata": {},
   "outputs": [
    {
     "data": {
      "text/plain": [
       "1.0"
      ]
     },
     "execution_count": 836,
     "metadata": {},
     "output_type": "execute_result"
    }
   ],
   "source": [
    "df_labels_test['mh528'].sum()"
   ]
  },
  {
   "cell_type": "code",
   "execution_count": null,
   "metadata": {},
   "outputs": [],
   "source": []
  }
 ],
 "metadata": {
  "kernelspec": {
   "display_name": "Python 3",
   "language": "python",
   "name": "python3"
  },
  "language_info": {
   "codemirror_mode": {
    "name": "ipython",
    "version": 3
   },
   "file_extension": ".py",
   "mimetype": "text/x-python",
   "name": "python",
   "nbconvert_exporter": "python",
   "pygments_lexer": "ipython3",
   "version": "3.9.12"
  }
 },
 "nbformat": 4,
 "nbformat_minor": 4
}
