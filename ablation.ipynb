{
 "cells": [
  {
   "cell_type": "code",
   "execution_count": 1,
   "metadata": {},
   "outputs": [
    {
     "name": "stderr",
     "output_type": "stream",
     "text": [
      "/Users/reder/miniconda3/envs/f1000/lib/python3.9/site-packages/tqdm/auto.py:22: TqdmWarning: IProgress not found. Please update jupyter and ipywidgets. See https://ipywidgets.readthedocs.io/en/stable/user_install.html\n",
      "  from .autonotebook import tqdm as notebook_tqdm\n"
     ]
    }
   ],
   "source": [
    "import sys\n",
    "import os\n",
    "import numpy as np\n",
    "import pandas as pd\n",
    "from tqdm.auto import tqdm\n",
    "import itertools\n",
    "import matplotlib.pyplot as plt\n",
    "from rdkit import Chem\n",
    "import sklearn.metrics\n",
    "from rdkit import DataStructs\n",
    "import matplotlib.cm as cm\n",
    "import matplotlib.colors as mcolors"
   ]
  },
  {
   "cell_type": "markdown",
   "metadata": {},
   "source": [
    "## Read in id, predictions, and label files"
   ]
  },
  {
   "cell_type": "code",
   "execution_count": 2,
   "metadata": {},
   "outputs": [],
   "source": [
    "fname_df_ids = \"df_ids.tsv\"\n",
    "fname_df_sims_baseline = \"./KNN_OUTPUT/df_preds.tsv\"\n",
    "fname_df_sims_llda = \"./LLDA_OUTPUT/df_preds.tsv\"\n",
    "fname_df_labels = \"df_labels.tsv\"\n"
   ]
  },
  {
   "cell_type": "code",
   "execution_count": 3,
   "metadata": {},
   "outputs": [
    {
     "name": "stderr",
     "output_type": "stream",
     "text": [
      "RDKit ERROR: [14:23:12] Explicit valence for atom # 12 N, 4, is greater than permitted\n",
      "[14:23:12] Explicit valence for atom # 12 N, 4, is greater than permitted\n"
     ]
    }
   ],
   "source": [
    "df_ids = pd.read_csv(fname_df_ids, sep = '\\t', index_col = 0)\n",
    "df_ids['mol'] = [Chem.MolFromSmiles(x) for x in df_ids.smiles]\n",
    "df_ids = df_ids.dropna()\n",
    "df_ids['rdkit_fp'] = [Chem.RDKFingerprint(x) for x in df_ids['mol']]"
   ]
  },
  {
   "cell_type": "code",
   "execution_count": 4,
   "metadata": {},
   "outputs": [],
   "source": [
    "df_ids_train = df_ids[df_ids.index.str.contains('_train')].copy()\n",
    "df_ids_test = df_ids[df_ids.index.str.contains('_test')].copy()"
   ]
  },
  {
   "cell_type": "markdown",
   "metadata": {},
   "source": [
    "### Get the fingerprint similarities between each test structure and the training corpus structures"
   ]
  },
  {
   "cell_type": "code",
   "execution_count": 5,
   "metadata": {},
   "outputs": [],
   "source": [
    "def get_train_sims(d, df_ids, df_ids_train):\n",
    "    fp_d = df_ids.loc[d]['rdkit_fp']\n",
    "    fp_sims = [DataStructs.FingerprintSimilarity(fp_d, fp) for fp in df_ids_train['rdkit_fp']]\n",
    "    return(np.max(fp_sims), np.min(fp_sims), np.mean(fp_sims), np.median(fp_sims))"
   ]
  },
  {
   "cell_type": "code",
   "execution_count": 6,
   "metadata": {},
   "outputs": [
    {
     "name": "stderr",
     "output_type": "stream",
     "text": [
      "100%|██████████| 185/185 [00:02<00:00, 82.29it/s]\n"
     ]
    }
   ],
   "source": [
    "test_output = [get_train_sims(d, df_ids, df_ids_train) for d in tqdm(df_ids_test.index)]\n",
    "maxes, mins, means, medians = zip(*test_output)\n",
    "df_ids_test['max_train_sim'] = maxes\n",
    "df_ids_test['mins_train_sim'] = mins\n",
    "df_ids_test['means_train_sim'] = means\n",
    "df_ids_test['medians_train_sim'] = medians\n",
    "df_ids_test['uniform_train_sim'] = 1.0"
   ]
  },
  {
   "cell_type": "code",
   "execution_count": 7,
   "metadata": {},
   "outputs": [],
   "source": [
    "df_sims_baseline = pd.read_csv(fname_df_sims_baseline, sep = '\\t', index_col = 0)"
   ]
  },
  {
   "cell_type": "code",
   "execution_count": 8,
   "metadata": {},
   "outputs": [],
   "source": [
    "df_sims_llda = pd.read_csv(fname_df_sims_llda, sep = '\\t', index_col = 0)\n",
    "df_sims_llda = df_sims_llda.T\n",
    "df_sims_llda.index = df_sims_llda.index + '_test'"
   ]
  },
  {
   "cell_type": "code",
   "execution_count": 9,
   "metadata": {},
   "outputs": [],
   "source": [
    "df_labels = pd.read_csv(fname_df_labels, sep = '\\t', index_col = 0)"
   ]
  },
  {
   "cell_type": "code",
   "execution_count": 10,
   "metadata": {},
   "outputs": [],
   "source": [
    "df_labels_test = df_labels[df_labels.index.str.contains('_test')]\n",
    "df_labels_train = df_labels[df_labels.index.str.contains('_train')]"
   ]
  },
  {
   "cell_type": "markdown",
   "metadata": {},
   "source": [
    "## Iterate over a range of similarity cutoffs and report the corresponding AUC values for baseline and LLDA"
   ]
  },
  {
   "cell_type": "code",
   "execution_count": 11,
   "metadata": {},
   "outputs": [],
   "source": [
    "min_similarities = df_ids_test[\"mins_train_sim\"].loc[df_labels_test.index]\n",
    "max_similarities = df_ids_test[\"max_train_sim\"].loc[df_labels_test.index]\n",
    "substruct_differences = (df_labels_test.sum() / len(df_labels_test)) - (df_labels_train.sum() / len(df_labels_train))\n",
    "percentiles = np.arange(0, 1.05, .05)"
   ]
  },
  {
   "cell_type": "code",
   "execution_count": 12,
   "metadata": {},
   "outputs": [],
   "source": [
    "min_sim_runs = list(itertools.product(min_similarities.quantile(percentiles).values, substruct_differences.quantile(percentiles).values))\n",
    "min_sim_runs = [('mins', x[0], x[1]) for x in min_sim_runs]\n",
    "max_sim_runs = list(itertools.product(max_similarities.quantile(percentiles).values, substruct_differences.quantile(percentiles).values))\n",
    "max_sim_runs = [('max', x[0], x[1]) for x in max_sim_runs]\n",
    "runs = min_sim_runs + max_sim_runs"
   ]
  },
  {
   "cell_type": "code",
   "execution_count": 13,
   "metadata": {},
   "outputs": [],
   "source": [
    "def get_aucs(mode, sim_val, struct_val, test = False):\n",
    "    mode_sims = df_ids_test[f\"{mode}_train_sim\"].loc[df_labels_test.index]\n",
    "    keep_docs = mode_sims[mode_sims <= sim_val].index\n",
    "    keep_docs_multiply = pd.Series(df_labels_test.index.isin(keep_docs).astype(float), index = df_labels_test.index)\n",
    "    weighted_sums = df_labels_test.multiply(keep_docs_multiply, axis = 'index').sum()\n",
    "    keep_structs = (weighted_sums[weighted_sums > 0]).index.values\n",
    "    keep_structs = list(set(df_sims_llda.columns).intersection(set(keep_structs)))\n",
    "    keep_structs = list(set(substruct_differences[substruct_differences >= struct_val].index).intersection(set(keep_structs)))\n",
    "    if test:\n",
    "        return(keep_docs, keep_structs)\n",
    "    try:\n",
    "        auc_baseline = sklearn.metrics.roc_auc_score(df_labels_test.loc[keep_docs][keep_structs], df_sims_baseline.loc[keep_docs][keep_structs], average = 'macro')\n",
    "        auc_llda = sklearn.metrics.roc_auc_score(df_labels_test.loc[keep_docs][keep_structs], df_sims_llda.loc[keep_docs][keep_structs], average = 'macro')\n",
    "        return(auc_baseline, auc_llda)\n",
    "    except:\n",
    "        return((None, None))"
   ]
  },
  {
   "cell_type": "code",
   "execution_count": 14,
   "metadata": {},
   "outputs": [
    {
     "name": "stderr",
     "output_type": "stream",
     "text": [
      "100%|██████████| 882/882 [00:36<00:00, 24.43it/s]\n"
     ]
    }
   ],
   "source": [
    "from joblib import Parallel, delayed\n",
    "output = Parallel(n_jobs = 6)(delayed(get_aucs)(*x) for x in tqdm(runs))"
   ]
  },
  {
   "cell_type": "code",
   "execution_count": 15,
   "metadata": {},
   "outputs": [],
   "source": [
    "rows = [list(x) + list(output[i]) for i, x in enumerate(runs)]\n",
    "df_out = pd.DataFrame(rows, columns = ['mode', 'sim_cutoff', 'struct_cutoff', 'auc_baseline', 'auc_llda'])\n",
    "df_out['llda-baseline'] = df_out['auc_llda'] - df_out['auc_baseline']\n",
    "df_struct_cutoffs = pd.DataFrame(substruct_differences.quantile(percentiles)).reset_index().rename(columns = {'index' : 'percentile', 0 : 'value'})"
   ]
  },
  {
   "cell_type": "code",
   "execution_count": 16,
   "metadata": {},
   "outputs": [
    {
     "data": {
      "text/plain": [
       "Text(0.5, 1.0, 'Train-test similarity mode mins \\n ROC AUC')"
      ]
     },
     "execution_count": 16,
     "metadata": {},
     "output_type": "execute_result"
    },
    {
     "data": {
      "image/png": "[encoded data removed]",
      "text/plain": [
       "<Figure size 432x288 with 2 Axes>"
      ]
     },
     "metadata": {
      "needs_background": "light"
     },
     "output_type": "display_data"
    }
   ],
   "source": [
    "mode = 'mins'\n",
    "df_plot = df_out[df_out['mode'] == mode]\n",
    "colormap = cm.viridis\n",
    "colorparams = df_struct_cutoffs['percentile'].values\n",
    "normalize = mcolors.Normalize(vmin=np.min(colorparams), vmax=np.max(colorparams))\n",
    "for struct_cutoff in set(df_plot['struct_cutoff']):\n",
    "    percentile = df_struct_cutoffs.iloc[np.abs(df_struct_cutoffs['value'] - struct_cutoff).argmin()]['percentile']\n",
    "    df = df_plot[df_plot['struct_cutoff'] == struct_cutoff].dropna()\n",
    "    color = colormap(normalize(percentile))\n",
    "    plt.plot(df['sim_cutoff'], df['llda-baseline'], marker='.', linestyle='-' ,label = f'{round(struct_cutoff, 2)}', color = color)\n",
    "plt.xlabel(\"Sim Cutoff\")\n",
    "plt.ylabel('LLDA - Baseline')\n",
    "s_map = cm.ScalarMappable(norm=normalize, cmap=colormap)\n",
    "s_map.set_array(colorparams)\n",
    "cbar = plt.colorbar(s_map)\n",
    "cbar.ax.set_title('Struct Cutoff')\n",
    "plt.title(f\"Train-test similarity mode {mode} \\n ROC AUC\")"
   ]
  }
 ],
 "metadata": {
  "interpreter": {
   "hash": "9462eb69e87bbdf747a94bcbe2fa24946d97ce5a3db96d7780d132f8de2f2dc8"
  },
  "kernelspec": {
   "display_name": "Python 3.9.12 ('f1000')",
   "language": "python",
   "name": "python3"
  },
  "language_info": {
   "codemirror_mode": {
    "name": "ipython",
    "version": 3
   },
   "file_extension": ".py",
   "mimetype": "text/x-python",
   "name": "python",
   "nbconvert_exporter": "python",
   "pygments_lexer": "ipython3",
   "version": "3.9.12"
  },
  "orig_nbformat": 4
 },
 "nbformat": 4,
 "nbformat_minor": 2
}
